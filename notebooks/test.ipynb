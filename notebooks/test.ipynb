{
 "cells": [
  {
   "cell_type": "code",
   "execution_count": 6,
   "id": "initial_id",
   "metadata": {
    "ExecuteTime": {
     "end_time": "2025-02-28T10:12:33.319829Z",
     "start_time": "2025-02-28T10:12:13.945341Z"
    },
    "collapsed": true
   },
   "outputs": [],
   "source": [
    "import os\n",
    "import json\n",
    "import re\n",
    "import logging\n",
    "import pandas as pd\n",
    "from google.cloud import firestore, bigquery, storage\n",
    "from google.api_core.exceptions import GoogleAPICallError\n",
    "from google.cloud import bigquery\n",
    "from firebase_admin import credentials, firestore\n",
    "from dotenv import load_dotenv\n",
    "from google.auth.exceptions import RefreshError\n",
    "from pyspark.sql import SparkSession\n",
    "from pyspark.sql.functions import col, explode\n",
    "from google.oauth2 import service_account\n",
    "\n",
    "# Load environment variables\n",
    "load_dotenv()\n",
    "\n",
    "project_id = os.getenv(\"GOOGLE_FIRESTORE_PROJECT_ID\")\n",
    "database_name = os.getenv(\"GOOGLE_FIRESTORE_DATABASE_NAME\")\n",
    "collection_name = os.getenv(\"GOOGLE_FIRESTORE_COLLECTION_NAME\")\n",
    "bigquery_project_id = os.getenv(\"GOOGLE_BIGQUERY_PROJECT_ID\")\n",
    "bigquery_dataset_id = os.getenv(\"GOOGLE_BIGQUERY_DATASET_NAME\")\n",
    "gcp_credentials_path = os.getenv(\"GOOGLE_APPLICATION_CREDENTIALS\")\n",
    "\n",
    "# Configure Logging\n",
    "logging.basicConfig(level=logging.INFO, format='%(asctime)s - %(levelname)s - %(message)s')"
   ]
  },
  {
   "cell_type": "code",
   "execution_count": 7,
   "id": "03571485",
   "metadata": {},
   "outputs": [
    {
     "name": "stdout",
     "output_type": "stream",
     "text": [
      "Current working directory: /workspaces/shipment-tracking-project/notebooks\n",
      "Parent directory: /workspaces/shipment-tracking-project\n",
      "Credentials path: /workspaces/shipment-tracking-project/config/gcp_credentials.json\n",
      "Query file path: /workspaces/shipment-tracking-project/database/create_tables.sql\n"
     ]
    }
   ],
   "source": [
    "# current working directory\n",
    "print (f\"Current working directory: {os.getcwd()}\")\n",
    "\n",
    "# Get the parent directory\n",
    "parent_dir = os.path.abspath(os.path.join(os.getcwd(), os.pardir))\n",
    "\n",
    "print (f\"Parent directory: {parent_dir}\")\n",
    "\n",
    "# path to the credentials file\n",
    "gcp_credentials_path = os.path.join(parent_dir, \"config/gcp_credentials.json\")\n",
    "print (f\"Credentials path: {gcp_credentials_path}\")\n",
    "\n",
    "# path to query file\n",
    "query_file_path = os.path.join(parent_dir, \"database/create_tables.sql\")\n",
    "print (f\"Query file path: {query_file_path}\")"
   ]
  },
  {
   "cell_type": "code",
   "execution_count": 8,
   "id": "45fc864d",
   "metadata": {},
   "outputs": [
    {
     "name": "stderr",
     "output_type": "stream",
     "text": [
      "2025-03-01 14:06:37,941 - INFO - Credentials file contains valid JSON.\n"
     ]
    }
   ],
   "source": [
    "# Check if the credentials file exists\n",
    "if not os.path.isfile(gcp_credentials_path):\n",
    "    print(f\"Error: Credentials file not found at {gcp_credentials_path}\")\n",
    "    exit(1)\n",
    "\n",
    "# Print if the file cotain json\n",
    "try:\n",
    "    with open(gcp_credentials_path, 'r') as f:\n",
    "        json_data = json.load(f)\n",
    "        logging.info(\"Credentials file contains valid JSON.\")\n",
    "except json.JSONDecodeError:\n",
    "    logging.error(f\"Credentials file is not valid JSON.\")\n",
    "    exit(1)"
   ]
  },
  {
   "cell_type": "code",
   "execution_count": 9,
   "id": "ae4857f1",
   "metadata": {},
   "outputs": [],
   "source": [
    "# Configure logging\n",
    "logging.basicConfig(level=logging.INFO, format='%(asctime)s - %(levelname)s - %(message)s')\n",
    "\n",
    "# Ensure credentials file exists\n",
    "if not os.path.exists(gcp_credentials_path):\n",
    "    logging.error(f\"Failed to initialize Firestore and BigQuery: File {gcp_credentials_path} was not found.\")\n",
    "    exit(1)"
   ]
  },
  {
   "cell_type": "code",
   "execution_count": 10,
   "id": "5f07059a",
   "metadata": {},
   "outputs": [
    {
     "name": "stderr",
     "output_type": "stream",
     "text": [
      "2025-03-01 14:06:37,993 - INFO - BigQuery client initialized successfully!\n"
     ]
    },
    {
     "name": "stderr",
     "output_type": "stream",
     "text": [
      "2025-03-01 14:06:40,111 - INFO - Tables in BigQuery dataset: ['DocumentReferences', 'EquipmentEvent', 'Seals', 'TransportCall', 'EventLocation']\n"
     ]
    }
   ],
   "source": [
    "# Initialize BigQuery client\n",
    "try:\n",
    "    client = bigquery.Client.from_service_account_json(gcp_credentials_path)\n",
    "    logging.info(\"BigQuery client initialized successfully!\")\n",
    "except RefreshError as e:\n",
    "    logging.error(f\"Failed to initialize BigQuery due to authentication error: {e}\")\n",
    "    exit(1)\n",
    "except Exception as e:\n",
    "    logging.error(f\"Failed to initialize BigQuery: {e}\")\n",
    "    exit(1)\n",
    "\n",
    "# Get table names from BigQuery dataset\n",
    "try:\n",
    "    query = f\"SELECT table_name FROM `{bigquery_project_id}.{bigquery_dataset_id}.INFORMATION_SCHEMA.TABLES`\"\n",
    "    tables = client.query(query).to_dataframe()\n",
    "    table_names = tables[\"table_name\"].tolist()\n",
    "    logging.info(f\"Tables in BigQuery dataset: {table_names}\")\n",
    "except GoogleAPICallError as e:\n",
    "    logging.error(f\"BigQuery API error: {e}\")\n",
    "    exit(1)"
   ]
  },
  {
   "cell_type": "code",
   "execution_count": 11,
   "id": "1fea6006",
   "metadata": {},
   "outputs": [
    {
     "name": "stderr",
     "output_type": "stream",
     "text": [
      "2025-03-01 14:06:40,158 - INFO - Firestore client initialized successfully!\n"
     ]
    }
   ],
   "source": [
    "# Initialize Firestore client\n",
    "try:\n",
    "    credentials = service_account.Credentials.from_service_account_file(gcp_credentials_path)\n",
    "    db = firestore.Client(project=project_id, database= database_name, credentials=credentials)\n",
    "    logging.info(\"Firestore client initialized successfully!\")\n",
    "except RefreshError as e:\n",
    "    logging.error(f\"Failed to initialize Firestore due to authentication error: {e}\")\n",
    "    exit(1)\n",
    "except Exception as e:\n",
    "    logging.error(f\"Failed to initialize Firestore: {e}\")\n",
    "    exit(1)"
   ]
  },
  {
   "cell_type": "code",
   "execution_count": 12,
   "id": "f7e0e76d",
   "metadata": {},
   "outputs": [],
   "source": [
    "# Read 5 random documents from Firestore collection\n",
    "random_documents = db.collection(collection_name).limit(5).get()\n",
    "\n",
    "# Take those to JSON format\n",
    "json_data = [doc.to_dict() for doc in random_documents]"
   ]
  },
  {
   "cell_type": "code",
   "execution_count": 13,
   "id": "b5b9fce5",
   "metadata": {},
   "outputs": [
    {
     "name": "stderr",
     "output_type": "stream",
     "text": [
      "25/03/01 14:06:41 WARN Utils: Your hostname, codespaces-f5c61a resolves to a loopback address: 127.0.0.1; using 10.0.0.183 instead (on interface eth0)\n",
      "25/03/01 14:06:41 WARN Utils: Set SPARK_LOCAL_IP if you need to bind to another address\n",
      "Setting default log level to \"WARN\".\n",
      "To adjust logging level use sc.setLogLevel(newLevel). For SparkR, use setLogLevel(newLevel).\n",
      "25/03/01 14:06:42 WARN NativeCodeLoader: Unable to load native-hadoop library for your platform... using builtin-java classes where applicable\n"
     ]
    }
   ],
   "source": [
    "# Initialize Spark session\n",
    "spark = SparkSession.builder.appName(\"NestedJSONProcessing\").getOrCreate()"
   ]
  },
  {
   "cell_type": "code",
   "execution_count": 14,
   "id": "373b1aec",
   "metadata": {},
   "outputs": [
    {
     "name": "stderr",
     "output_type": "stream",
     "text": [
      "[Stage 0:>                                                        (0 + 16) / 16]\r"
     ]
    },
    {
     "name": "stdout",
     "output_type": "stream",
     "text": [
      "root\n",
      " |-- documentReferences: array (nullable = true)\n",
      " |    |-- element: struct (containsNull = true)\n",
      " |    |    |-- documentReferenceType: string (nullable = true)\n",
      " |    |    |-- documentReferenceValue: string (nullable = true)\n",
      " |-- equipmentEventTypeCode: string (nullable = true)\n",
      " |-- equipmentReference: string (nullable = true)\n",
      " |-- eventClassifierCode: string (nullable = true)\n",
      " |-- eventCreatedDateTime: string (nullable = true)\n",
      " |-- eventDateTime: string (nullable = true)\n",
      " |-- eventID: string (nullable = true)\n",
      " |-- eventLocation: struct (nullable = true)\n",
      " |    |-- address: struct (nullable = true)\n",
      " |    |    |-- city: string (nullable = true)\n",
      " |    |    |-- country: string (nullable = true)\n",
      " |    |    |-- floor: string (nullable = true)\n",
      " |    |    |-- name: string (nullable = true)\n",
      " |    |    |-- postCode: string (nullable = true)\n",
      " |    |    |-- stateRegion: string (nullable = true)\n",
      " |    |    |-- street: string (nullable = true)\n",
      " |    |    |-- streetNumber: string (nullable = true)\n",
      " |    |-- facilityCode: string (nullable = true)\n",
      " |    |-- facilityCodeListProvider: string (nullable = true)\n",
      " |    |-- latitude: string (nullable = true)\n",
      " |    |-- locationName: string (nullable = true)\n",
      " |    |-- longitude: string (nullable = true)\n",
      " |    |-- unlocationCode: string (nullable = true)\n",
      " |-- eventType: string (nullable = true)\n",
      " |-- seals: array (nullable = true)\n",
      " |    |-- element: struct (containsNull = true)\n",
      " |    |    |-- sealNumber: string (nullable = true)\n",
      " |    |    |-- sealSource: string (nullable = true)\n",
      " |    |    |-- sealType: string (nullable = true)\n",
      " |-- transportCall: struct (nullable = true)\n",
      " |    |-- carrierServiceCode: string (nullable = true)\n",
      " |    |-- exportVoyageNumber: string (nullable = true)\n",
      " |    |-- facilityCode: string (nullable = true)\n",
      " |    |-- facilityCodeListProvider: string (nullable = true)\n",
      " |    |-- facilityTypeCode: string (nullable = true)\n",
      " |    |-- importVoyageNumber: string (nullable = true)\n",
      " |    |-- modeOfTransport: string (nullable = true)\n",
      " |    |-- transportCallID: string (nullable = true)\n",
      " |    |-- vessel: struct (nullable = true)\n",
      " |    |    |-- vesselCallSignNumber: string (nullable = true)\n",
      " |    |    |-- vesselFlag: string (nullable = true)\n",
      " |    |    |-- vesselIMONumber: string (nullable = true)\n",
      " |    |    |-- vesselName: string (nullable = true)\n",
      " |    |    |-- vesselOperatorCarrierCode: string (nullable = true)\n",
      " |    |    |-- vesselOperatorCarrierCodeListProvider: string (nullable = true)\n",
      "\n"
     ]
    },
    {
     "name": "stderr",
     "output_type": "stream",
     "text": [
      "                                                                                \r"
     ]
    }
   ],
   "source": [
    "# Create a DataFrame from the JSON data\n",
    "df = spark.read.json(spark.sparkContext.parallelize([json_data]), multiLine=True)\n",
    "df.printSchema()"
   ]
  },
  {
   "cell_type": "code",
   "execution_count": 15,
   "id": "7e1eb91d",
   "metadata": {},
   "outputs": [
    {
     "name": "stdout",
     "output_type": "stream",
     "text": [
      "+------------------------------------+--------------------------+---------------------+-------------------------+-------------------+--------------------------+----------+\n",
      "|event_id                            |event_created_datetime    |event_classifier_code|equipment_event_type_code|equipment_reference|event_datetime            |event_type|\n",
      "+------------------------------------+--------------------------+---------------------+-------------------------+-------------------+--------------------------+----------+\n",
      "|00006ba7-4179-4b4d-a8b9-7020e4227ff4|2024-06-20T08:12:59.656226|ACT                  |UNLOAD                   |APZU2386924        |2024-06-20T08:12:59.656226|EQUIPMENT |\n",
      "|00052089-881b-4774-9131-cef97a6e9e7f|2024-05-13T08:12:59.276063|EST                  |UNLOAD                   |APZU3785346        |2024-05-13T08:12:59.276063|EQUIPMENT |\n",
      "|0005ee8f-8e98-4015-bd9c-5165a17c66e2|2024-04-18T08:13:00.066059|EST                  |ARRIVAL                  |APZU7792130        |2024-04-18T08:13:00.066059|EQUIPMENT |\n",
      "|0007d2dd-d688-4f65-bd85-1e01c8541bba|2024-11-16T08:12:59.493765|EST                  |LOAD                     |APZU3279567        |2024-11-16T08:12:59.493765|EQUIPMENT |\n",
      "|0007f87a-8748-466c-bd12-d1df687bd662|2024-03-13T08:12:59.213024|EST                  |DEPARTURE                |APZU7556078        |2024-03-13T08:12:59.213024|EQUIPMENT |\n",
      "+------------------------------------+--------------------------+---------------------+-------------------------+-------------------+--------------------------+----------+\n",
      "\n"
     ]
    }
   ],
   "source": [
    "# Flatten the main event fields\n",
    "df_events = df.select(\n",
    "    col(\"eventID\").alias(\"event_id\"),\n",
    "    col(\"eventCreatedDateTime\").alias(\"event_created_datetime\"),\n",
    "    col(\"eventClassifierCode\").alias(\"event_classifier_code\"),\n",
    "    col(\"equipmentEventTypeCode\").alias(\"equipment_event_type_code\"),\n",
    "    col(\"equipmentReference\").alias(\"equipment_reference\"),\n",
    "    col(\"eventDateTime\").alias(\"event_datetime\"),\n",
    "    col(\"eventType\").alias(\"event_type\")\n",
    ")\n",
    "\n",
    "df_events.show(truncate=False)"
   ]
  },
  {
   "cell_type": "code",
   "execution_count": 16,
   "id": "305f9755",
   "metadata": {},
   "outputs": [
    {
     "name": "stdout",
     "output_type": "stream",
     "text": [
      "+------------------------------------+-----------------------+------------------------------------+\n",
      "|event_id                            |document_reference_type|document_reference_value            |\n",
      "+------------------------------------+-----------------------+------------------------------------+\n",
      "|00006ba7-4179-4b4d-a8b9-7020e4227ff4|BL                     |b510ce35-82e2-418c-be24-23537f216701|\n",
      "|00052089-881b-4774-9131-cef97a6e9e7f|BL                     |ca6d86d6-e81a-4813-8e25-8a69e93cdaba|\n",
      "|0005ee8f-8e98-4015-bd9c-5165a17c66e2|BL                     |e231f39f-837c-4c5c-a55d-ebbd1092398c|\n",
      "|0007d2dd-d688-4f65-bd85-1e01c8541bba|BL                     |51770229-8fb7-4874-b277-05916fbd81d4|\n",
      "|0007f87a-8748-466c-bd12-d1df687bd662|BL                     |bb6d6842-690d-491f-a639-1ab7de72e4d7|\n",
      "+------------------------------------+-----------------------+------------------------------------+\n",
      "\n"
     ]
    }
   ],
   "source": [
    "# Explode documentReferences\n",
    "df_document_references = df.select(\n",
    "    col(\"eventID\").alias(\"event_id\"),\n",
    "    explode(col(\"documentReferences\")).alias(\"document_reference\")\n",
    ").select(\n",
    "    col(\"event_id\"),\n",
    "    col(\"document_reference.documentReferenceType\").alias(\"document_reference_type\"),\n",
    "    col(\"document_reference.documentReferenceValue\").alias(\"document_reference_value\")\n",
    ")\n",
    "\n",
    "df_document_references.show(truncate=False)"
   ]
  },
  {
   "cell_type": "code",
   "execution_count": 17,
   "id": "868b2701",
   "metadata": {},
   "outputs": [
    {
     "name": "stdout",
     "output_type": "stream",
     "text": [
      "+------------------------------------+---------+------------------------------------+-----------+\n",
      "|event_id                            |seal_type|seal_number                         |seal_source|\n",
      "+------------------------------------+---------+------------------------------------+-----------+\n",
      "|00006ba7-4179-4b4d-a8b9-7020e4227ff4|STANDARD |a09ba28e-0391-4964-92f3-fca907667ae3|CUSTOMS    |\n",
      "|00052089-881b-4774-9131-cef97a6e9e7f|STANDARD |52fcfbe8-87da-4ba8-9e35-526fc2bfdf7e|CUSTOMS    |\n",
      "|0005ee8f-8e98-4015-bd9c-5165a17c66e2|STANDARD |35e8b99c-061a-4c18-8e22-f8630355935c|CARRIER    |\n",
      "|0007d2dd-d688-4f65-bd85-1e01c8541bba|STANDARD |1fc4b733-c92f-431e-b4b8-5cfdb3ea2027|CUSTOMS    |\n",
      "|0007f87a-8748-466c-bd12-d1df687bd662|STANDARD |2c6e9d52-b123-4de9-8be4-e5bc4f5fa4cc|CARRIER    |\n",
      "+------------------------------------+---------+------------------------------------+-----------+\n",
      "\n"
     ]
    }
   ],
   "source": [
    "\n",
    "# Explode seals\n",
    "df_seals = df.select(\n",
    "    col(\"eventID\").alias(\"event_id\"),\n",
    "    explode(col(\"seals\")).alias(\"seal\")\n",
    ").select(\n",
    "    col(\"event_id\"),\n",
    "    col(\"seal.sealType\").alias(\"seal_type\"),\n",
    "    col(\"seal.sealNumber\").alias(\"seal_number\"),\n",
    "    col(\"seal.sealSource\").alias(\"seal_source\")\n",
    ")\n",
    "\n",
    "df_seals.show(truncate=False)"
   ]
  },
  {
   "cell_type": "code",
   "execution_count": 18,
   "id": "0cc0b834",
   "metadata": {},
   "outputs": [
    {
     "name": "stdout",
     "output_type": "stream",
     "text": [
      "+------------------------------------+---------------------------+-----------+---------------+-------------+----------+-------------+------------+-------------+-----------+-------+-----+---------+---------+------+\n",
      "|event_id                            |facility_code_list_provider|longitude  |unlocation_code|facility_code|latitude  |location_name|state_region|street_number|street     |country|floor|city     |post_code|name  |\n",
      "+------------------------------------+---------------------------+-----------+---------------+-------------+----------+-------------+------------+-------------+-----------+-------+-----+---------+---------+------+\n",
      "|00006ba7-4179-4b4d-a8b9-7020e4227ff4|SMDG                       |-93.41878  |XYZ123         |XYZ          |-25.481948|Port Terminal|N/A         |21           |Main Street|UK     |8F   |København|7462     |Henrik|\n",
      "|00052089-881b-4774-9131-cef97a6e9e7f|SMDG                       |11.40495   |XYZ123         |XYZ          |71.330214 |Port Terminal|Region B    |157          |Main Street|UK     |5F   |København|1757     |Henrik|\n",
      "|0005ee8f-8e98-4015-bd9c-5165a17c66e2|SMDG                       |64.146556  |XYZ123         |ADT          |24.834957 |Port Terminal|Region B    |101          |Main Street|Germany|10F  |Berlin   |6471     |Henrik|\n",
      "|0007d2dd-d688-4f65-bd85-1e01c8541bba|SMDG                       |-155.880456|XYZ123         |PQR          |68.375913 |Port Terminal|Region A    |13           |Main Street|Norway |9F   |London   |6673     |Henrik|\n",
      "|0007f87a-8748-466c-bd12-d1df687bd662|SMDG                       |104.079924 |XYZ123         |ADT          |-55.313004|Port Terminal|N/A         |63           |Main Street|Denmark|6F   |København|3242     |Henrik|\n",
      "+------------------------------------+---------------------------+-----------+---------------+-------------+----------+-------------+------------+-------------+-----------+-------+-----+---------+---------+------+\n",
      "\n"
     ]
    }
   ],
   "source": [
    "# Extract eventLocation\n",
    "df_event_location = df.select(\n",
    "    col(\"eventID\").alias(\"event_id\"),\n",
    "    col(\"eventLocation.facilityCodeListProvider\").alias(\"facility_code_list_provider\"),\n",
    "    col(\"eventLocation.longitude\").alias(\"longitude\"),\n",
    "    col(\"eventLocation.unlocationCode\").alias(\"unlocation_code\"),\n",
    "    col(\"eventLocation.facilityCode\").alias(\"facility_code\"),\n",
    "    col(\"eventLocation.latitude\").alias(\"latitude\"),\n",
    "    col(\"eventLocation.locationName\").alias(\"location_name\"),\n",
    "    col(\"eventLocation.address.stateRegion\").alias(\"state_region\"),\n",
    "    col(\"eventLocation.address.streetNumber\").alias(\"street_number\"),\n",
    "    col(\"eventLocation.address.street\").alias(\"street\"),\n",
    "    col(\"eventLocation.address.country\").alias(\"country\"),\n",
    "    col(\"eventLocation.address.floor\").alias(\"floor\"),\n",
    "    col(\"eventLocation.address.city\").alias(\"city\"),\n",
    "    col(\"eventLocation.address.postCode\").alias(\"post_code\"),\n",
    "    col(\"eventLocation.address.name\").alias(\"name\")\n",
    ")\n",
    "\n",
    "df_event_location.show(truncate=False)\n"
   ]
  },
  {
   "cell_type": "code",
   "execution_count": 19,
   "id": "ed234831",
   "metadata": {},
   "outputs": [
    {
     "name": "stdout",
     "output_type": "stream",
     "text": [
      "+------------------------------------+---------------------------+--------------------+------------------------------------+-----------------+--------------------+------------------+-------------+--------------------+\n",
      "|event_id                            |facility_code_list_provider|carrier_service_code|transport_call_id                   |mode_of_transport|import_voyage_number|facility_type_code|facility_code|export_voyage_number|\n",
      "+------------------------------------+---------------------------+--------------------+------------------------------------+-----------------+--------------------+------------------+-------------+--------------------+\n",
      "|00006ba7-4179-4b4d-a8b9-7020e4227ff4|SMDG                       |FE1                 |0c582809-f5b3-4641-bf50-c5f724ed11f0|SEA              |3925N               |PORT              |XYZ          |5256S               |\n",
      "|00052089-881b-4774-9131-cef97a6e9e7f|SMDG                       |FE1                 |d2ab6d03-4b1c-4733-9e5a-8d9b94095a7f|SEA              |5221N               |PORT              |ADT          |6348S               |\n",
      "|0005ee8f-8e98-4015-bd9c-5165a17c66e2|SMDG                       |FE1                 |3ac370c1-9a95-41a1-8e4f-f6a0e18b8fe7|SEA              |4516N               |PORT              |PQR          |7942S               |\n",
      "|0007d2dd-d688-4f65-bd85-1e01c8541bba|SMDG                       |FE1                 |01c92dab-eb1b-4ad8-b2af-67b557af4dbf|SEA              |9859N               |PORT              |ADT          |5245S               |\n",
      "|0007f87a-8748-466c-bd12-d1df687bd662|SMDG                       |FE1                 |a6d4b08a-9757-4330-ab01-2c1e34674f28|SEA              |9461N               |PORT              |PQR          |2259S               |\n",
      "+------------------------------------+---------------------------+--------------------+------------------------------------+-----------------+--------------------+------------------+-------------+--------------------+\n",
      "\n"
     ]
    }
   ],
   "source": [
    "# Extract transportCall\n",
    "df_transport_call = df.select(\n",
    "    col(\"eventID\").alias(\"event_id\"),\n",
    "    col(\"transportCall.facilityCodeListProvider\").alias(\"facility_code_list_provider\"),\n",
    "    col(\"transportCall.carrierServiceCode\").alias(\"carrier_service_code\"),\n",
    "    col(\"transportCall.transportCallID\").alias(\"transport_call_id\"),\n",
    "    col(\"transportCall.modeOfTransport\").alias(\"mode_of_transport\"),\n",
    "    col(\"transportCall.importVoyageNumber\").alias(\"import_voyage_number\"),\n",
    "    col(\"transportCall.facilityTypeCode\").alias(\"facility_type_code\"),\n",
    "    col(\"transportCall.facilityCode\").alias(\"facility_code\"),\n",
    "    col(\"transportCall.exportVoyageNumber\").alias(\"export_voyage_number\")\n",
    ")\n",
    "\n",
    "df_transport_call.show(truncate=False)"
   ]
  },
  {
   "cell_type": "code",
   "execution_count": 20,
   "id": "450de957",
   "metadata": {},
   "outputs": [
    {
     "name": "stdout",
     "output_type": "stream",
     "text": [
      "+------------------------------------+-----------------------+----------------------------+------------------------------------------+-----------------+-----------+--------------+\n",
      "|event_id                            |vessel_call_sign_number|vessel_operator_carrier_code|vessel_operator_carrier_code_list_provider|vessel_imo_number|vessel_flag|vessel_name   |\n",
      "+------------------------------------+-----------------------+----------------------------+------------------------------------------+-----------------+-----------+--------------+\n",
      "|00006ba7-4179-4b4d-a8b9-7020e4227ff4|NCVV                   |MAEU                        |NMFTA                                     |9323208          |DE         |Sea Guardian  |\n",
      "|00052089-881b-4774-9131-cef97a6e9e7f|NCVV                   |MAEU                        |NMFTA                                     |9487386          |DE         |Ocean Explorer|\n",
      "|0005ee8f-8e98-4015-bd9c-5165a17c66e2|NCVV                   |MAEU                        |NMFTA                                     |9948579          |DE         |Ocean Explorer|\n",
      "|0007d2dd-d688-4f65-bd85-1e01c8541bba|NCVV                   |MAEU                        |NMFTA                                     |9606882          |DE         |Ocean Explorer|\n",
      "|0007f87a-8748-466c-bd12-d1df687bd662|NCVV                   |MAEU                        |NMFTA                                     |9423653          |DE         |Ocean Explorer|\n",
      "+------------------------------------+-----------------------+----------------------------+------------------------------------------+-----------------+-----------+--------------+\n",
      "\n"
     ]
    }
   ],
   "source": [
    "# Extract vessel (nested inside transportCall)\n",
    "df_vessel = df.select(\n",
    "    col(\"eventID\").alias(\"event_id\"),\n",
    "    col(\"transportCall.vessel.vesselCallSignNumber\").alias(\"vessel_call_sign_number\"),\n",
    "    col(\"transportCall.vessel.vesselOperatorCarrierCode\").alias(\"vessel_operator_carrier_code\"),\n",
    "    col(\"transportCall.vessel.vesselOperatorCarrierCodeListProvider\").alias(\"vessel_operator_carrier_code_list_provider\"),\n",
    "    col(\"transportCall.vessel.vesselIMONumber\").alias(\"vessel_imo_number\"),\n",
    "    col(\"transportCall.vessel.vesselFlag\").alias(\"vessel_flag\"),\n",
    "    col(\"transportCall.vessel.vesselName\").alias(\"vessel_name\")\n",
    ")\n",
    "\n",
    "df_vessel.show(truncate=False)"
   ]
  },
  {
   "cell_type": "code",
   "execution_count": 21,
   "id": "fd5030bc",
   "metadata": {},
   "outputs": [
    {
     "name": "stdout",
     "output_type": "stream",
     "text": [
      "+------------------------------------+--------------------------+---------------------+-------------------------+-------------------+--------------------------+----------+------------------------------------+------------------------------------+------------------------------------+------------------------------------+\n",
      "|eventID                             |event_created_datetime    |event_classifier_code|equipment_event_type_code|equipment_reference|event_datetime            |event_type|documentReferenceID                 |eventLocationID                     |sealID                              |transportCallID                     |\n",
      "+------------------------------------+--------------------------+---------------------+-------------------------+-------------------+--------------------------+----------+------------------------------------+------------------------------------+------------------------------------+------------------------------------+\n",
      "|00006ba7-4179-4b4d-a8b9-7020e4227ff4|2024-06-20T08:12:59.656226|ACT                  |UNLOAD                   |APZU2386924        |2024-06-20T08:12:59.656226|EQUIPMENT |00006ba7-4179-4b4d-a8b9-7020e4227ff4|00006ba7-4179-4b4d-a8b9-7020e4227ff4|00006ba7-4179-4b4d-a8b9-7020e4227ff4|00006ba7-4179-4b4d-a8b9-7020e4227ff4|\n",
      "|00052089-881b-4774-9131-cef97a6e9e7f|2024-05-13T08:12:59.276063|EST                  |UNLOAD                   |APZU3785346        |2024-05-13T08:12:59.276063|EQUIPMENT |00052089-881b-4774-9131-cef97a6e9e7f|00052089-881b-4774-9131-cef97a6e9e7f|00052089-881b-4774-9131-cef97a6e9e7f|00052089-881b-4774-9131-cef97a6e9e7f|\n",
      "|0005ee8f-8e98-4015-bd9c-5165a17c66e2|2024-04-18T08:13:00.066059|EST                  |ARRIVAL                  |APZU7792130        |2024-04-18T08:13:00.066059|EQUIPMENT |0005ee8f-8e98-4015-bd9c-5165a17c66e2|0005ee8f-8e98-4015-bd9c-5165a17c66e2|0005ee8f-8e98-4015-bd9c-5165a17c66e2|0005ee8f-8e98-4015-bd9c-5165a17c66e2|\n",
      "|0007d2dd-d688-4f65-bd85-1e01c8541bba|2024-11-16T08:12:59.493765|EST                  |LOAD                     |APZU3279567        |2024-11-16T08:12:59.493765|EQUIPMENT |0007d2dd-d688-4f65-bd85-1e01c8541bba|0007d2dd-d688-4f65-bd85-1e01c8541bba|0007d2dd-d688-4f65-bd85-1e01c8541bba|0007d2dd-d688-4f65-bd85-1e01c8541bba|\n",
      "|0007f87a-8748-466c-bd12-d1df687bd662|2024-03-13T08:12:59.213024|EST                  |DEPARTURE                |APZU7556078        |2024-03-13T08:12:59.213024|EQUIPMENT |0007f87a-8748-466c-bd12-d1df687bd662|0007f87a-8748-466c-bd12-d1df687bd662|0007f87a-8748-466c-bd12-d1df687bd662|0007f87a-8748-466c-bd12-d1df687bd662|\n",
      "+------------------------------------+--------------------------+---------------------+-------------------------+-------------------+--------------------------+----------+------------------------------------+------------------------------------+------------------------------------+------------------------------------+\n",
      "\n"
     ]
    }
   ],
   "source": [
    "# Add foreign keys to df_events\n",
    "df_events = df_events.withColumnRenamed(\"event_id\", \"eventID\") \\\n",
    "    .withColumn(\"documentReferenceID\", col(\"eventID\")) \\\n",
    "    .withColumn(\"eventLocationID\", col(\"eventID\")) \\\n",
    "    .withColumn(\"sealID\", col(\"eventID\")) \\\n",
    "    .withColumn(\"transportCallID\", col(\"eventID\"))\n",
    "\n",
    "df_events.show(truncate=False)"
   ]
  },
  {
   "cell_type": "code",
   "execution_count": 22,
   "id": "ad1279e5",
   "metadata": {},
   "outputs": [
    {
     "name": "stdout",
     "output_type": "stream",
     "text": [
      "+------------------------------------+-----------------------+------------------------------------+\n",
      "|documentReferenceID                 |document_reference_type|document_reference_value            |\n",
      "+------------------------------------+-----------------------+------------------------------------+\n",
      "|00006ba7-4179-4b4d-a8b9-7020e4227ff4|BL                     |b510ce35-82e2-418c-be24-23537f216701|\n",
      "|00052089-881b-4774-9131-cef97a6e9e7f|BL                     |ca6d86d6-e81a-4813-8e25-8a69e93cdaba|\n",
      "|0005ee8f-8e98-4015-bd9c-5165a17c66e2|BL                     |e231f39f-837c-4c5c-a55d-ebbd1092398c|\n",
      "|0007d2dd-d688-4f65-bd85-1e01c8541bba|BL                     |51770229-8fb7-4874-b277-05916fbd81d4|\n",
      "|0007f87a-8748-466c-bd12-d1df687bd662|BL                     |bb6d6842-690d-491f-a639-1ab7de72e4d7|\n",
      "+------------------------------------+-----------------------+------------------------------------+\n",
      "\n"
     ]
    }
   ],
   "source": [
    "# Add documentReferenceID (primary key)\n",
    "df_document_references = df_document_references.withColumnRenamed(\"event_id\", \"documentReferenceID\")\n",
    "\n",
    "df_document_references.show(truncate=False)"
   ]
  },
  {
   "cell_type": "code",
   "execution_count": 23,
   "id": "3083768f",
   "metadata": {},
   "outputs": [
    {
     "name": "stdout",
     "output_type": "stream",
     "text": [
      "+------------------------------------+---------------------------+-----------+---------------+-------------+----------+-------------+------------+-------------+-----------+-------+-----+---------+---------+------+\n",
      "|eventLocationID                     |facility_code_list_provider|longitude  |unlocation_code|facility_code|latitude  |location_name|state_region|street_number|street     |country|floor|city     |post_code|name  |\n",
      "+------------------------------------+---------------------------+-----------+---------------+-------------+----------+-------------+------------+-------------+-----------+-------+-----+---------+---------+------+\n",
      "|00006ba7-4179-4b4d-a8b9-7020e4227ff4|SMDG                       |-93.41878  |XYZ123         |XYZ          |-25.481948|Port Terminal|N/A         |21           |Main Street|UK     |8F   |København|7462     |Henrik|\n",
      "|00052089-881b-4774-9131-cef97a6e9e7f|SMDG                       |11.40495   |XYZ123         |XYZ          |71.330214 |Port Terminal|Region B    |157          |Main Street|UK     |5F   |København|1757     |Henrik|\n",
      "|0005ee8f-8e98-4015-bd9c-5165a17c66e2|SMDG                       |64.146556  |XYZ123         |ADT          |24.834957 |Port Terminal|Region B    |101          |Main Street|Germany|10F  |Berlin   |6471     |Henrik|\n",
      "|0007d2dd-d688-4f65-bd85-1e01c8541bba|SMDG                       |-155.880456|XYZ123         |PQR          |68.375913 |Port Terminal|Region A    |13           |Main Street|Norway |9F   |London   |6673     |Henrik|\n",
      "|0007f87a-8748-466c-bd12-d1df687bd662|SMDG                       |104.079924 |XYZ123         |ADT          |-55.313004|Port Terminal|N/A         |63           |Main Street|Denmark|6F   |København|3242     |Henrik|\n",
      "+------------------------------------+---------------------------+-----------+---------------+-------------+----------+-------------+------------+-------------+-----------+-------+-----+---------+---------+------+\n",
      "\n"
     ]
    }
   ],
   "source": [
    "# Add eventLocationID (primary key)\n",
    "df_event_location = df_event_location.withColumnRenamed(\"event_id\", \"eventLocationID\")\n",
    "\n",
    "df_event_location.show(truncate=False)"
   ]
  },
  {
   "cell_type": "code",
   "execution_count": 24,
   "id": "c4e262df",
   "metadata": {},
   "outputs": [
    {
     "name": "stdout",
     "output_type": "stream",
     "text": [
      "+------------------------------------+---------+------------------------------------+-----------+\n",
      "|sealID                              |seal_type|seal_number                         |seal_source|\n",
      "+------------------------------------+---------+------------------------------------+-----------+\n",
      "|00006ba7-4179-4b4d-a8b9-7020e4227ff4|STANDARD |a09ba28e-0391-4964-92f3-fca907667ae3|CUSTOMS    |\n",
      "|00052089-881b-4774-9131-cef97a6e9e7f|STANDARD |52fcfbe8-87da-4ba8-9e35-526fc2bfdf7e|CUSTOMS    |\n",
      "|0005ee8f-8e98-4015-bd9c-5165a17c66e2|STANDARD |35e8b99c-061a-4c18-8e22-f8630355935c|CARRIER    |\n",
      "|0007d2dd-d688-4f65-bd85-1e01c8541bba|STANDARD |1fc4b733-c92f-431e-b4b8-5cfdb3ea2027|CUSTOMS    |\n",
      "|0007f87a-8748-466c-bd12-d1df687bd662|STANDARD |2c6e9d52-b123-4de9-8be4-e5bc4f5fa4cc|CARRIER    |\n",
      "+------------------------------------+---------+------------------------------------+-----------+\n",
      "\n"
     ]
    }
   ],
   "source": [
    "# Add sealID (primary key)\n",
    "df_seals = df_seals.withColumnRenamed(\"event_id\", \"sealID\")\n",
    "\n",
    "df_seals.show(truncate=False)"
   ]
  },
  {
   "cell_type": "code",
   "execution_count": 25,
   "id": "c40dd728",
   "metadata": {},
   "outputs": [
    {
     "name": "stdout",
     "output_type": "stream",
     "text": [
      "+------------------------------------+---------------------------+--------------------+------------------------------------+-----------------+--------------------+------------------+-------------+--------------------+\n",
      "|transportCallID                     |facility_code_list_provider|carrier_service_code|transport_call_id                   |mode_of_transport|import_voyage_number|facility_type_code|facility_code|export_voyage_number|\n",
      "+------------------------------------+---------------------------+--------------------+------------------------------------+-----------------+--------------------+------------------+-------------+--------------------+\n",
      "|00006ba7-4179-4b4d-a8b9-7020e4227ff4|SMDG                       |FE1                 |0c582809-f5b3-4641-bf50-c5f724ed11f0|SEA              |3925N               |PORT              |XYZ          |5256S               |\n",
      "|00052089-881b-4774-9131-cef97a6e9e7f|SMDG                       |FE1                 |d2ab6d03-4b1c-4733-9e5a-8d9b94095a7f|SEA              |5221N               |PORT              |ADT          |6348S               |\n",
      "|0005ee8f-8e98-4015-bd9c-5165a17c66e2|SMDG                       |FE1                 |3ac370c1-9a95-41a1-8e4f-f6a0e18b8fe7|SEA              |4516N               |PORT              |PQR          |7942S               |\n",
      "|0007d2dd-d688-4f65-bd85-1e01c8541bba|SMDG                       |FE1                 |01c92dab-eb1b-4ad8-b2af-67b557af4dbf|SEA              |9859N               |PORT              |ADT          |5245S               |\n",
      "|0007f87a-8748-466c-bd12-d1df687bd662|SMDG                       |FE1                 |a6d4b08a-9757-4330-ab01-2c1e34674f28|SEA              |9461N               |PORT              |PQR          |2259S               |\n",
      "+------------------------------------+---------------------------+--------------------+------------------------------------+-----------------+--------------------+------------------+-------------+--------------------+\n",
      "\n"
     ]
    },
    {
     "name": "stderr",
     "output_type": "stream",
     "text": [
      "25/03/01 14:06:53 WARN GarbageCollectionMetrics: To enable non-built-in garbage collector(s) List(G1 Concurrent GC), users should configure it(them) to spark.eventLog.gcMetrics.youngGenerationGarbageCollectors or spark.eventLog.gcMetrics.oldGenerationGarbageCollectors\n"
     ]
    }
   ],
   "source": [
    "# Add transportCallID (primary key)\n",
    "df_transport_call = df_transport_call.withColumnRenamed(\"event_id\", \"transportCallID\")\n",
    "\n",
    "df_transport_call.show(truncate=False)"
   ]
  },
  {
   "cell_type": "code",
   "execution_count": null,
   "id": "7606bc10",
   "metadata": {},
   "outputs": [],
   "source": []
  }
 ],
 "metadata": {
  "kernelspec": {
   "display_name": ".venv",
   "language": "python",
   "name": "python3"
  },
  "language_info": {
   "codemirror_mode": {
    "name": "ipython",
    "version": 3
   },
   "file_extension": ".py",
   "mimetype": "text/x-python",
   "name": "python",
   "nbconvert_exporter": "python",
   "pygments_lexer": "ipython3",
   "version": "3.12.1"
  }
 },
 "nbformat": 4,
 "nbformat_minor": 5
}
